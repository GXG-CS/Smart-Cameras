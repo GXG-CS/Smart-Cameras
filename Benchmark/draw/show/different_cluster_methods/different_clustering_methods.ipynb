{
 "cells": [
  {
   "cell_type": "code",
   "execution_count": null,
   "metadata": {},
   "outputs": [],
   "source": [
    "#first one is showing different clustering algorithm results applying on the same hardware and point out the best one,\n",
    "#pi3b \n",
    "\n",
    "# Documents/Smart-Cameras/Benchmark/draw/pi3b/cluster_3D/gaussian_mixture_yeojohnson_4_plot.png\n",
    "# BI_roubust_3\n",
    "# KM_standard_3\n",
    "# SP_minmax_3"
   ]
  }
 ],
 "metadata": {
  "language_info": {
   "name": "python"
  },
  "orig_nbformat": 4
 },
 "nbformat": 4,
 "nbformat_minor": 2
}
